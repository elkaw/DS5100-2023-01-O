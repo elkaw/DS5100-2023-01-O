{
 "cells": [
  {
   "cell_type": "code",
   "execution_count": 1,
   "metadata": {},
   "outputs": [],
   "source": [
    "#copied from board\n",
    "Fibonacci <- numeric(10)\n",
    "Fibonacci[1] <- Fibonacci[2] <- 1\n",
    "for(i in 3:10){\n",
    "    Fibonacci[i] <- Fibonacci[i-2 ] + Fibonacci[i-1] \n",
    "}"
   ]
  },
  {
   "cell_type": "code",
   "execution_count": 9,
   "metadata": {},
   "outputs": [
    {
     "name": "stdout",
     "output_type": "stream",
     "text": [
      " [1]  1  1  2  3  5  8 13 21 34 55\n"
     ]
    }
   ],
   "source": [
    "fibonacci <- function(n=10) {\n",
    "    Fibonacci <- numeric(n)\n",
    "    Fibonacci[1] <- Fibonacci[2] <- 1\n",
    "    for(i in 3:n){\n",
    "        Fibonacci[i] <- Fibonacci[i-2 ] + Fibonacci[i-1] }\n",
    "    return(Fibonacci)\n",
    "    }\n",
    "print(fibonacci(10))\n"
   ]
  },
  {
   "cell_type": "code",
   "execution_count": 14,
   "metadata": {},
   "outputs": [
    {
     "name": "stdout",
     "output_type": "stream",
     "text": [
      "[1] 1\n",
      "[1] 0\n",
      "[1] 0\n",
      "[1] 0\n",
      "[1] 0\n",
      "[1] 0\n",
      "[1] 0\n",
      "[1] 0\n"
     ]
    }
   ],
   "source": [
    "bet_zero_one <- function(x){\n",
    "if(x > 0 & x <1){\n",
    "    return(1)\n",
    "}\n",
    "else(\n",
    "    return(0)\n",
    ")\n",
    "\n",
    "}\n",
    "print(bet_zero_one(.5))\n",
    "print(bet_zero_one(1.5))\n",
    "print(bet_zero_one(-1))\n",
    "print(bet_zero_one(-88))\n",
    "print(bet_zero_one(-77))\n",
    "print(bet_zero_one(-33))\n",
    "print(bet_zero_one(11))\n",
    "print(bet_zero_one(44))"
   ]
  },
  {
   "cell_type": "code",
   "execution_count": null,
   "metadata": {},
   "outputs": [],
   "source": [
    "#copied from board\n",
    "letters\n",
    "LETTERS\n",
    "letters[0:10]\n",
    "letters[0:10]\n",
    "\n",
    "t = head(letters, 10)\n",
    "t = tail(LETTERS, 10)"
   ]
  },
  {
   "cell_type": "code",
   "execution_count": 15,
   "metadata": {},
   "outputs": [
    {
     "ename": "ERROR",
     "evalue": "Error in parse(text = x, srcfile = src): <text>:2:8: unexpected symbol\n1: for(i in 1:100){\n2:     if i\n          ^\n",
     "output_type": "error",
     "traceback": [
      "Error in parse(text = x, srcfile = src): <text>:2:8: unexpected symbol\n1: for(i in 1:100){\n2:     if i\n          ^\nTraceback:\n"
     ]
    }
   ],
   "source": [
    "for(i in 1:100){\n",
    "    if i%3{\n",
    "        print(\"Fizz\")\n",
    "    }\n",
    "    elif i%5{        \n",
    "        print(\"Buzz\")\n",
    "    }\n",
    "    else{\n",
    "        print(\"FizzBuzz\")\n",
    "    }\n",
    "}"
   ]
  },
  {
   "cell_type": "code",
   "execution_count": null,
   "metadata": {},
   "outputs": [],
   "source": []
  }
 ],
 "metadata": {
  "kernelspec": {
   "display_name": "R 3.6",
   "language": "R",
   "name": "ir36"
  },
  "language_info": {
   "codemirror_mode": "r",
   "file_extension": ".r",
   "mimetype": "text/x-r-source",
   "name": "R",
   "pygments_lexer": "r",
   "version": "3.6.3"
  }
 },
 "nbformat": 4,
 "nbformat_minor": 4
}
